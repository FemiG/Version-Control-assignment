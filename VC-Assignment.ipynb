{
 "cells": [
  {
   "cell_type": "code",
   "execution_count": 1,
   "metadata": {},
   "outputs": [
    {
     "name": "stdin",
     "output_type": "stream",
     "text": [
      "What is your name? Femi\n",
      "Gimmie a number and I'll add one to it  4\n"
     ]
    },
    {
     "name": "stdout",
     "output_type": "stream",
     "text": [
      "Thank you Femi, here's your number back with one added to it, 5\n"
     ]
    }
   ],
   "source": [
    "askname = \"What is your name?\"\n",
    "name = input(prompt=askname)\n",
    "asknum = \"Gimmie a number and I'll add one to it \"\n",
    "num = int(input(prompt=asknum))\n",
    "num += 1\n",
    "print(\"Thank you \" + name + \", here's your number back with one added to it, \" + str(num))"
   ]
  },
  {
   "cell_type": "code",
   "execution_count": null,
   "metadata": {},
   "outputs": [],
   "source": []
  }
 ],
 "metadata": {
  "kernelspec": {
   "display_name": "Python 3",
   "language": "python",
   "name": "python3"
  },
  "language_info": {
   "codemirror_mode": {
    "name": "ipython",
    "version": 3
   },
   "file_extension": ".py",
   "mimetype": "text/x-python",
   "name": "python",
   "nbconvert_exporter": "python",
   "pygments_lexer": "ipython3",
   "version": "3.8.3"
  }
 },
 "nbformat": 4,
 "nbformat_minor": 4
}
